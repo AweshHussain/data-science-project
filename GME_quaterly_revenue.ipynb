{
  "nbformat": 4,
  "nbformat_minor": 0,
  "metadata": {
    "colab": {
      "provenance": [],
      "authorship_tag": "ABX9TyNsAB5Bzx3cydUodebNLieS",
      "include_colab_link": true
    },
    "kernelspec": {
      "name": "python3",
      "display_name": "Python 3"
    },
    "language_info": {
      "name": "python"
    }
  },
  "cells": [
    {
      "cell_type": "markdown",
      "metadata": {
        "id": "view-in-github",
        "colab_type": "text"
      },
      "source": [
        "<a href=\"https://colab.research.google.com/github/AweshHussain/data-science-project/blob/main/GME_quaterly_revenue.ipynb\" target=\"_parent\"><img src=\"https://colab.research.google.com/assets/colab-badge.svg\" alt=\"Open In Colab\"/></a>"
      ]
    },
    {
      "cell_type": "code",
      "execution_count": 3,
      "metadata": {
        "colab": {
          "base_uri": "https://localhost:8080/"
        },
        "id": "X2PNusoqB4Sa",
        "outputId": "3a275c42-dfe7-43a8-93aa-becdefd4e1be"
      },
      "outputs": [
        {
          "output_type": "stream",
          "name": "stdout",
          "text": [
            "         Date Revenue\n",
            "0  2020-10-31    1005\n",
            "1  2020-07-31     942\n",
            "2  2020-04-30    1021\n",
            "3  2020-01-31    2157\n",
            "4  2019-10-31    1439\n"
          ]
        }
      ],
      "source": [
        "import pandas as pd\n",
        "\n",
        "# Simulated GME revenue data (sample based on historical financials)\n",
        "data = {\n",
        "    \"Date\": [\"2020-10-31\", \"2020-07-31\", \"2020-04-30\", \"2020-01-31\", \"2019-10-31\"],\n",
        "    \"Revenue\": [\"1005\", \"942\", \"1021\", \"2157\", \"1439\"]\n",
        "}\n",
        "\n",
        "gme_revenue = pd.DataFrame(data)\n",
        "\n",
        "# Display last five rows\n",
        "print(gme_revenue.tail())\n"
      ]
    }
  ]
}
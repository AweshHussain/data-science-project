{
  "nbformat": 4,
  "nbformat_minor": 0,
  "metadata": {
    "colab": {
      "provenance": [],
      "authorship_tag": "ABX9TyPb15f7Fimz6bCPAO0E2QuP",
      "include_colab_link": true
    },
    "kernelspec": {
      "name": "python3",
      "display_name": "Python 3"
    },
    "language_info": {
      "name": "python"
    }
  },
  "cells": [
    {
      "cell_type": "markdown",
      "metadata": {
        "id": "view-in-github",
        "colab_type": "text"
      },
      "source": [
        "<a href=\"https://colab.research.google.com/github/AweshHussain/data-science-project/blob/main/tesla_quaterly_revenue.ipynb\" target=\"_parent\"><img src=\"https://colab.research.google.com/assets/colab-badge.svg\" alt=\"Open In Colab\"/></a>"
      ]
    },
    {
      "cell_type": "code",
      "execution_count": 3,
      "metadata": {
        "colab": {
          "base_uri": "https://localhost:8080/"
        },
        "id": "mHl1xDDN_nrL",
        "outputId": "aa892fd1-d5a9-4f26-fce9-1456d5882223"
      },
      "outputs": [
        {
          "output_type": "stream",
          "name": "stdout",
          "text": [
            "         Date Revenue\n",
            "0  2020-09-30    8770\n",
            "1  2020-06-30    6036\n",
            "2  2020-03-31    5985\n",
            "3  2019-12-31    7384\n",
            "4  2019-09-30    6303\n"
          ]
        }
      ],
      "source": [
        "import pandas as pd\n",
        "\n",
        "# Manually created Tesla revenue data (latest sample)\n",
        "data = {\n",
        "    \"Date\": [\"2020-09-30\", \"2020-06-30\", \"2020-03-31\", \"2019-12-31\", \"2019-09-30\"],\n",
        "    \"Revenue\": [\"8770\", \"6036\", \"5985\", \"7384\", \"6303\"]\n",
        "}\n",
        "\n",
        "tesla_revenue = pd.DataFrame(data)\n",
        "\n",
        "# Display last 5 rows\n",
        "print(tesla_revenue.tail())\n"
      ]
    }
  ]
}
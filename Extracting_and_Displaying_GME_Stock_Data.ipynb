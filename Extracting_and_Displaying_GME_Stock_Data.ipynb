{
  "nbformat": 4,
  "nbformat_minor": 0,
  "metadata": {
    "colab": {
      "provenance": [],
      "authorship_tag": "ABX9TyN6Fjpe4juQZqnGXFuSBGQH",
      "include_colab_link": true
    },
    "kernelspec": {
      "name": "python3",
      "display_name": "Python 3"
    },
    "language_info": {
      "name": "python"
    }
  },
  "cells": [
    {
      "cell_type": "markdown",
      "metadata": {
        "id": "view-in-github",
        "colab_type": "text"
      },
      "source": [
        "<a href=\"https://colab.research.google.com/github/AweshHussain/data-science-project/blob/main/Extracting_and_Displaying_GME_Stock_Data.ipynb\" target=\"_parent\"><img src=\"https://colab.research.google.com/assets/colab-badge.svg\" alt=\"Open In Colab\"/></a>"
      ]
    },
    {
      "cell_type": "code",
      "execution_count": 1,
      "metadata": {
        "colab": {
          "base_uri": "https://localhost:8080/"
        },
        "id": "2fZMyKaVAa5G",
        "outputId": "8933a69f-fe0f-4db7-8413-801efd40b5b1"
      },
      "outputs": [
        {
          "output_type": "stream",
          "name": "stderr",
          "text": [
            "/tmp/ipython-input-2826267431.py:3: FutureWarning: YF.download() has changed argument auto_adjust default to True\n",
            "  gme_data = yf.download('GME', start='2020-01-01', end='2021-01-01')\n",
            "[*********************100%***********************]  1 of 1 completed"
          ]
        },
        {
          "output_type": "stream",
          "name": "stdout",
          "text": [
            "Price        Date   Close    High     Low    Open    Volume\n",
            "Ticker                GME     GME     GME     GME       GME\n",
            "0      2020-01-02  1.5775  1.6175  1.5175  1.5350  17814400\n",
            "1      2020-01-03  1.4700  1.5625  1.4600  1.5525  14175600\n",
            "2      2020-01-06  1.4625  1.4775  1.4000  1.4500  13579200\n",
            "3      2020-01-07  1.3800  1.4575  1.3600  1.4425  20912000\n",
            "4      2020-01-08  1.4300  1.4625  1.3525  1.3725  22517600\n"
          ]
        },
        {
          "output_type": "stream",
          "name": "stderr",
          "text": [
            "\n"
          ]
        }
      ],
      "source": [
        "import yfinance as yf\n",
        "\n",
        "gme_data = yf.download('GME', start='2020-01-01', end='2021-01-01')\n",
        "gme_data.reset_index(inplace=True)\n",
        "print(gme_data.head())\n"
      ]
    }
  ]
}